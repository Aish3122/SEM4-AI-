{
 "cells": [
  {
   "cell_type": "code",
   "execution_count": 7,
   "id": "019168c3-1aa1-4e35-987f-7eab17d7332d",
   "metadata": {
    "scrolled": true
   },
   "outputs": [
    {
     "name": "stdout",
     "output_type": "stream",
     "text": [
      "Q . . . . . . .\n",
      ". . . . Q . . .\n",
      ". . . . . . . Q\n",
      ". . . . . Q . .\n",
      ". . Q . . . . .\n",
      ". . . . . . Q .\n",
      ". Q . . . . . .\n",
      ". . . Q . . . .\n"
     ]
    }
   ],
   "source": [
    "class NQueensCSP:\n",
    "    def __init__(self, n):\n",
    "        self.n = n\n",
    "        self.variables = list(range(n))\n",
    "        self.domains = {v: list(range(n)) for v in self.variables}\n",
    "    def is_consistent(self, var, value, assignment):\n",
    "        for col, row in assignment.items():\n",
    "            if value == row:\n",
    "                return False\n",
    "            if abs(var - col) == abs(value - row):\n",
    "                return False\n",
    "        return True\n",
    "    def backtracking_search(self, assignment={}):\n",
    "        if len(assignment) == self.n:\n",
    "            return assignment\n",
    "        unassigned = [v for v in self.variables if v not in assignment]\n",
    "        var = unassigned[0]\n",
    "        for value in self.domains[var]:\n",
    "            if self.is_consistent(var, value, assignment):\n",
    "                assignment[var] = value\n",
    "                result = self.backtracking_search(assignment)\n",
    "                if result is not None:\n",
    "                    return result\n",
    "                del assignment[var]\n",
    "        return None\n",
    "    def solve(self):\n",
    "        solution = self.backtracking_search()\n",
    "        if solution:\n",
    "            return self.format_solution(solution)\n",
    "        return None\n",
    "    def format_solution(self, solution):\n",
    "        board = []\n",
    "        for col in sorted(solution):\n",
    "            row = ['Q' if i == solution[col] else '.' for i in range(self.n)]\n",
    "            board.append(' '.join(row))\n",
    "        return board\n",
    " \n",
    "n = 8\n",
    "csp = NQueensCSP(n)\n",
    "solution = csp.solve()\n",
    " \n",
    "if solution:\n",
    "    for row in solution:\n",
    "        print(row)\n",
    "else:\n",
    "    print(f\"No solution found for {n}-Queens\")"
   ]
  },
  {
   "cell_type": "code",
   "execution_count": 9,
   "id": "ccb29786-dd5d-41da-8f4d-43b10763d22f",
   "metadata": {},
   "outputs": [
    {
     "name": "stdout",
     "output_type": "stream",
     "text": [
      "1 0 0 0 0 0 0 0 \n",
      "0 0 0 0 0 0 1 0 \n",
      "0 0 0 0 1 0 0 0 \n",
      "0 0 0 0 0 0 0 1 \n",
      "0 1 0 0 0 0 0 0 \n",
      "0 0 0 1 0 0 0 0 \n",
      "0 0 0 0 0 1 0 0 \n",
      "0 0 1 0 0 0 0 0 \n"
     ]
    },
    {
     "data": {
      "text/plain": [
       "True"
      ]
     },
     "execution_count": 9,
     "metadata": {},
     "output_type": "execute_result"
    }
   ],
   "source": [
    "global N\n",
    "N = 8\n",
    "def printSolution(board):\n",
    "    for i in range(N):\n",
    "        for j in range(N):\n",
    "            print (board[i][j],end=' ')\n",
    "        print()\n",
    "def isSafe(board, row, col):\n",
    "    for i in range(col):\n",
    "        if board[row][i] == 1:\n",
    "            return False\n",
    "    for i, j in zip(range(row, -1, -1), range(col, -1, -1)):\n",
    "        if board[i][j] == 1:\n",
    "            return False\n",
    "    for i, j in zip(range(row, N, 1), range(col, -1, -1)):\n",
    "        if board[i][j] == 1:\n",
    "            return False\n",
    "    return True\n",
    "def solveNQUtil(board, col):\n",
    "    if col >= N:\n",
    "        return True\n",
    "    for i in range(N):\n",
    "        if isSafe(board, i, col):\n",
    "            board[i][col] = 1\n",
    "            if solveNQUtil(board, col + 1) == True:\n",
    "                return True\n",
    "            board[i][col] = 0\n",
    "    return False\n",
    "def solveNQ():\n",
    "    board = [ [0, 0, 0, 0,0,0,0,0],\n",
    "              [0, 0, 0, 0,0,0,0,0],\n",
    "              [0, 0, 0, 0,0,0,0,0],\n",
    "              [0, 0, 0, 0,0,0,0,0],\n",
    "              [0, 0, 0, 0,0,0,0,0],\n",
    "              [0, 0, 0, 0,0,0,0,0],\n",
    "              [0, 0, 0, 0,0,0,0,0],\n",
    "              [0, 0, 0, 0,0,0,0,0]\n",
    "             ]\n",
    "    if solveNQUtil(board, 0) == False:\n",
    "        print (\"Solution does not exist\")\n",
    "        return False\n",
    "    printSolution(board)\n",
    "    return True\n",
    "solveNQ()\n"
   ]
  },
  {
   "cell_type": "code",
   "execution_count": 13,
   "id": "4e203617-da78-4f14-83f7-bce5b1086028",
   "metadata": {},
   "outputs": [
    {
     "name": "stdout",
     "output_type": "stream",
     "text": [
      " .  .  Q  . \n",
      " Q  .  .  . \n",
      " .  .  .  Q \n",
      " .  Q  .  . \n"
     ]
    }
   ],
   "source": [
    "N = 4\n",
    "ld = [0] * 30\n",
    "rd = [0] * 30\n",
    "cl = [0] * 30\n",
    " \n",
    "def printSolution(board):\n",
    "\n",
    "\tfor i in range(N):\n",
    "\n",
    "\t\tfor j in range(N):\n",
    "\n",
    "\t\t\tprint(\" Q \" if board[i][j] == 1 else \" . \", end=\"\")\n",
    "\n",
    "\t\tprint()\n",
    " \n",
    " \n",
    "def solveNQUtil(board, col):\n",
    "\n",
    "\tif col >= N:\n",
    "\n",
    "\t\treturn True\n",
    "\n",
    "\tfor i in range(N):\n",
    "\n",
    "\t\tif (ld[i - col + N - 1] != 1 and rd[i + col] != 1) and cl[i] != 1:\n",
    "\n",
    "\t\t\tboard[i][col] = 1\n",
    "\n",
    "\t\t\tld[i - col + N - 1] = rd[i + col] = cl[i] = 1\n",
    "\n",
    "\t\t\tif solveNQUtil(board, col + 1):\n",
    "\n",
    "\t\t\t\treturn True\n",
    "\n",
    "\t\t\tboard[i][col] = 0 # BACKTRACK\n",
    "\n",
    "\t\t\tld[i - col + N - 1] = rd[i + col] = cl[i] = 0\n",
    "\n",
    "\treturn False\n",
    " \n",
    "def solveNQ():\n",
    "\n",
    "\tboard = [[0 for _ in range(N)] for _ in range(N)]\n",
    " \n",
    "\tif not solveNQUtil(board, 0):\n",
    "\n",
    "\t\tprint(\"Solution does not exist\")\n",
    "\n",
    "\t\treturn False\n",
    " \n",
    "\tprintSolution(board)\n",
    "\n",
    "\treturn True\n",
    " \n",
    "\n",
    "if __name__ == \"__main__\":\n",
    "\n",
    "\tsolveNQ()"
   ]
  },
  {
   "cell_type": "code",
   "execution_count": null,
   "id": "58fe270d-5e69-4494-ac80-38f92e344c46",
   "metadata": {},
   "outputs": [],
   "source": []
  }
 ],
 "metadata": {
  "kernelspec": {
   "display_name": "Python 3 (ipykernel)",
   "language": "python",
   "name": "python3"
  },
  "language_info": {
   "codemirror_mode": {
    "name": "ipython",
    "version": 3
   },
   "file_extension": ".py",
   "mimetype": "text/x-python",
   "name": "python",
   "nbconvert_exporter": "python",
   "pygments_lexer": "ipython3",
   "version": "3.12.7"
  }
 },
 "nbformat": 4,
 "nbformat_minor": 5
}
